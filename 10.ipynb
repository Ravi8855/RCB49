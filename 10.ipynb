{
 "cells": [
  {
   "cell_type": "markdown",
   "id": "e58bec75-6a62-4599-b18f-61b6151650c6",
   "metadata": {},
   "source": [
    "10. Develop a program to implement k-means clustering using Wisconsin Breast Cancer data set and visualize the clustering result."
   ]
  },
  {
   "cell_type": "code",
   "execution_count": null,
   "id": "87809390-0564-4057-8c72-a2318bc1595b",
   "metadata": {},
   "outputs": [],
   "source": [
    "import numpy as np\n",
    "import pandas as pd\n",
    "import matplotlib.pyplot as plt\n",
    "import seaborn as sns\n",
    "from sklearn.datasets import load_breast_cancer\n",
    "from sklearn.cluster import KMeans\n",
    "from sklearn.preprocessing import StandardScaler\n",
    "from sklearn.decomposition import PCA\n",
    "from sklearn.metrics import confusion_matrix, classification_report\n",
    "\n",
    "data = load_breast_cancer()\n",
    "X = data.data\n",
    "y = data.target\n",
    "\n",
    "scaler = StandardScaler()\n",
    "X_scaled = scaler.fit_transform(X)\n",
    "\n",
    "kmeans = KMeans(n_clusters=2, random_state=42)\n",
    "y_kmeans = kmeans.fit_predict(X_scaled)\n",
    "\n",
    "print(\"Confusion Matrix:\")\n",
    "print(confusion_matrix(y, y_kmeans))\n",
    "print(\"\\nClassification Report:\")\n",
    "print(classification_report(y, y_kmeans))\n",
    "\n",
    "pca = PCA(n_components=2)\n",
    "X_pca = pca.fit_transform(X_scaled)\n",
    "\n",
    "df = pd.DataFrame(X_pca, columns=['PC1', 'PC2'])\n",
    "df['Cluster'] = y_kmeans\n",
    "df['True Label'] = y\n",
    "\n",
    "plt.figure(figsize=(8, 6))\n",
    "sns.scatterplot(data=df, x='PC1', y='PC2', hue='Cluster', palette='Set1', s=100, edgecolor='black', alpha=0.7)\n",
    "plt.title('K-Means Clustering of Breast Cancer Dataset')\n",
    "plt.xlabel('Principal Component 1')\n",
    "plt.ylabel('Principal Component 2')\n",
    "plt.legend(title=\"Cluster\")\n",
    "plt.show()\n",
    "\n",
    "plt.figure(figsize=(8, 6))\n",
    "sns.scatterplot(data=df, x='PC1', y='PC2', hue='True Label', palette='coolwarm', s=100, edgecolor='black', alpha=0.7)\n",
    "plt.title('True Labels of Breast Cancer Dataset')\n",
    "plt.xlabel('Principal Component 1')\n",
    "plt.ylabel('Principal Component 2')\n",
    "plt.legend(title=\"True Label\")\n",
    "plt.show()\n",
    "\n",
    "plt.figure(figsize=(8, 6))\n",
    "sns.scatterplot(data=df, x='PC1', y='PC2', hue='Cluster', palette='Set1', s=100, edgecolor='black', alpha=0.7)\n",
    "centers = pca.transform(kmeans.cluster_centers_)\n",
    "plt.scatter(centers[:, 0], centers[:, 1], s=200, c='red', marker='X', label='Centroids')\n",
    "plt.title('K-Means Clustering with Centroids')\n",
    "plt.xlabel('Principal Component 1')\n",
    "plt.ylabel('Principal Component 2')\n",
    "plt.legend(title=\"Cluster\")\n",
    "plt.show()"
   ]
  },
  {
   "cell_type": "code",
   "execution_count": 27,
   "id": "1dc046d2-0b44-4fd7-90b4-2775e8289423",
   "metadata": {},
   "outputs": [],
   "source": [
    "import matplotlib.pyplot as plt\n",
    "import seaborn as sns\n",
    "from sklearn.datasets import load_breast_cancer\n",
    "from sklearn.preprocessing import StandardScaler\n",
    "from sklearn.cluster import KMeans\n",
    "from sklearn.metrics import classification_report, confusion_matrix\n",
    "from sklearn.decomposition import PCA\n",
    "import pandas as pd"
   ]
  },
  {
   "cell_type": "code",
   "execution_count": 28,
   "id": "16683ecf-e272-4dc4-948d-e81bcee9852e",
   "metadata": {},
   "outputs": [],
   "source": [
    "data = load_breast_cancer()\n",
    "X = data.data\n",
    "y = data.target"
   ]
  },
  {
   "cell_type": "code",
   "execution_count": 29,
   "id": "25af88e9-0765-42de-bd67-6061a42c3a45",
   "metadata": {},
   "outputs": [],
   "source": [
    "scalar = StandardScaler()\n",
    "X_scalar = scalar.fit_transform(X)"
   ]
  },
  {
   "cell_type": "code",
   "execution_count": 30,
   "id": "eed79158-79bb-48b8-8065-7ac1f04c602c",
   "metadata": {},
   "outputs": [],
   "source": [
    "k_means = KMeans(n_clusters=2, random_state=42)\n",
    "y_kmeans = k_means.fit_predict(X_scalar)"
   ]
  },
  {
   "cell_type": "code",
   "execution_count": 31,
   "id": "d2d14b92-0fc6-465a-8d66-4838cad5ab19",
   "metadata": {},
   "outputs": [
    {
     "data": {
      "text/plain": [
       "array([[175,  37],\n",
       "       [ 13, 344]], dtype=int64)"
      ]
     },
     "execution_count": 31,
     "metadata": {},
     "output_type": "execute_result"
    }
   ],
   "source": [
    "confusion_matrix(y,y_kmeans)"
   ]
  },
  {
   "cell_type": "code",
   "execution_count": 32,
   "id": "193a9670-bffe-49c9-bbcd-7274fee3eb41",
   "metadata": {},
   "outputs": [
    {
     "data": {
      "text/plain": [
       "'              precision    recall  f1-score   support\\n\\n           0       0.93      0.83      0.88       212\\n           1       0.90      0.96      0.93       357\\n\\n    accuracy                           0.91       569\\n   macro avg       0.92      0.89      0.90       569\\nweighted avg       0.91      0.91      0.91       569\\n'"
      ]
     },
     "execution_count": 32,
     "metadata": {},
     "output_type": "execute_result"
    }
   ],
   "source": [
    "classification_report(y,y_kmeans)"
   ]
  },
  {
   "cell_type": "code",
   "execution_count": 33,
   "id": "fdb0ab46-643d-4373-9a7e-eb9d56c70412",
   "metadata": {},
   "outputs": [],
   "source": [
    "pca = PCA(n_components=2)\n",
    "x_pac = pca.fit_transform(X_scalar)"
   ]
  },
  {
   "cell_type": "code",
   "execution_count": null,
   "id": "6971e318-98c9-4b7c-9cac-a9424d904ef9",
   "metadata": {},
   "outputs": [],
   "source": [
    "df = pd.DataFrame(x_pac, columns)"
   ]
  },
  {
   "cell_type": "code",
   "execution_count": null,
   "id": "09343733-7215-4549-8922-7117607018ef",
   "metadata": {},
   "outputs": [],
   "source": []
  }
 ],
 "metadata": {
  "kernelspec": {
   "display_name": "Python 3 (ipykernel)",
   "language": "python",
   "name": "python3"
  },
  "language_info": {
   "codemirror_mode": {
    "name": "ipython",
    "version": 3
   },
   "file_extension": ".py",
   "mimetype": "text/x-python",
   "name": "python",
   "nbconvert_exporter": "python",
   "pygments_lexer": "ipython3",
   "version": "3.12.7"
  }
 },
 "nbformat": 4,
 "nbformat_minor": 5
}
