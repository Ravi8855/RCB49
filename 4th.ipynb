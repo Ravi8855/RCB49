{
 "cells": [
  {
   "cell_type": "markdown",
   "id": "925a07bb-7ca1-461c-ad57-e655bfe22151",
   "metadata": {},
   "source": [
    "4. For a given set of training data examples stored in a .CSV file, implement and demonstrate the Find-S algorithm to output a description of the set of all hypotheses consistent with the training examples."
   ]
  },
  {
   "cell_type": "code",
   "execution_count": 1,
   "id": "a1798757-6adb-4aa7-aacf-e77f5f80191a",
   "metadata": {},
   "outputs": [
    {
     "name": "stdout",
     "output_type": "stream",
     "text": [
      "Training data:\n",
      "    Outlook Temperature Humidity  Windy PlayTennis\n",
      "0     Sunny         Hot     High  False         No\n",
      "1     Sunny         Hot     High   True         No\n",
      "2  Overcast         Hot     High  False        Yes\n",
      "3      Rain        Cold     High  False        Yes\n",
      "4      Rain        Cold     High   True         No\n",
      "5  Overcast         Hot     High   True        Yes\n",
      "6     Sunny         Hot     High  False         No\n",
      "\n",
      "The final hypothesis is: ['Overcast', 'Hot', 'High', '?']\n"
     ]
    }
   ],
   "source": [
    "import pandas as pd\n",
    "\n",
    "\n",
    "def find_s_algorithm(file_path):\n",
    "    data = pd.read_csv(file_path)\n",
    "\n",
    "    print(\"Training data:\")\n",
    "    print(data)\n",
    "\n",
    "    attributes = data.columns[:-1]\n",
    "    class_label = data.columns[-1]\n",
    "\n",
    "    hypothesis = ['?' for _ in attributes]\n",
    "\n",
    "    for index, row in data.iterrows():\n",
    "        if row[class_label] == 'Yes':\n",
    "            for i, value in enumerate(row[attributes]):\n",
    "                if hypothesis[i] == '?' or hypothesis[i] == value:\n",
    "                    hypothesis[i] = value\n",
    "                else:\n",
    "                    hypothesis[i] = '?'\n",
    "\n",
    "    return hypothesis\n",
    "\n",
    "\n",
    "file_path = 'training_data.csv'\n",
    "hypothesis = find_s_algorithm(file_path)\n",
    "print(\"\\nThe final hypothesis is:\", hypothesis)"
   ]
  },
  {
   "cell_type": "code",
   "execution_count": null,
   "id": "56855b76-a881-4cce-b44f-ad90469176f8",
   "metadata": {},
   "outputs": [],
   "source": []
  }
 ],
 "metadata": {
  "kernelspec": {
   "display_name": "Python 3 (ipykernel)",
   "language": "python",
   "name": "python3"
  },
  "language_info": {
   "codemirror_mode": {
    "name": "ipython",
    "version": 3
   },
   "file_extension": ".py",
   "mimetype": "text/x-python",
   "name": "python",
   "nbconvert_exporter": "python",
   "pygments_lexer": "ipython3",
   "version": "3.12.7"
  }
 },
 "nbformat": 4,
 "nbformat_minor": 5
}
